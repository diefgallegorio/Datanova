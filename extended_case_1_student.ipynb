{
  "nbformat": 4,
  "nbformat_minor": 0,
  "metadata": {
    "kernelspec": {
      "display_name": "Python 3",
      "language": "python",
      "name": "python3"
    },
    "language_info": {
      "codemirror_mode": {
        "name": "ipython",
        "version": 3
      },
      "file_extension": ".py",
      "mimetype": "text/x-python",
      "name": "python",
      "nbconvert_exporter": "python",
      "pygments_lexer": "ipython3",
      "version": "3.6.7"
    },
    "colab": {
      "name": "extended_case_1_student.ipynb",
      "provenance": [],
      "collapsed_sections": [],
      "include_colab_link": true
    }
  },
  "cells": [
    {
      "cell_type": "markdown",
      "metadata": {
        "id": "view-in-github",
        "colab_type": "text"
      },
      "source": [
        "<a href=\"https://colab.research.google.com/github/diefgallegorio/Datanova/blob/master/extended_case_1_student.ipynb\" target=\"_parent\"><img src=\"https://colab.research.google.com/assets/colab-badge.svg\" alt=\"Open In Colab\"/></a>"
      ]
    },
    {
      "cell_type": "markdown",
      "metadata": {
        "id": "q4-A0Xsmuidc",
        "colab_type": "text"
      },
      "source": [
        "<h1>How can we control the increasing number of accidents in New York?</h1>"
      ]
    },
    {
      "cell_type": "code",
      "metadata": {
        "id": "LxcL9u9Puidd",
        "colab_type": "code",
        "colab": {
          "base_uri": "https://localhost:8080/",
          "height": 71
        },
        "outputId": "39dcae29-eb02-4f73-d226-cb9050864ef8"
      },
      "source": [
        "import json\n",
        "import requests\n",
        "from bs4 import BeautifulSoup\n",
        "import pandas as pd\n",
        "import matplotlib.pyplot as plt\n",
        "import seaborn as sns\n",
        "import numpy as np"
      ],
      "execution_count": 1,
      "outputs": [
        {
          "output_type": "stream",
          "text": [
            "/usr/local/lib/python3.6/dist-packages/statsmodels/tools/_testing.py:19: FutureWarning: pandas.util.testing is deprecated. Use the functions in the public API at pandas.testing instead.\n",
            "  import pandas.util.testing as tm\n"
          ],
          "name": "stderr"
        }
      ]
    },
    {
      "cell_type": "markdown",
      "metadata": {
        "id": "sE9XuzYkuidh",
        "colab_type": "text"
      },
      "source": [
        "<h2>Introduction</h2>"
      ]
    },
    {
      "cell_type": "markdown",
      "metadata": {
        "id": "cxe2i3_nuidh",
        "colab_type": "text"
      },
      "source": [
        "<p><strong>Business Context.</strong> The city of New York has seen a rise in the number of accidents on the roads in the city. They would like to know if the number of accidents have increased in the last few weeks. For all the reported accidents, they have collected details for each accident and have been maintaining records for the past year and a half (from January 2018 to August 2019). </p>\n",
        "<p>The city has contracted you to build visualizations that would help them identify patterns in accidents, which would help them take preventive actions to reduce the number of accidents in the future. They have certain parameters like borough, time of day, reason for accident, etc. Which they care about and which they would like to get specific information on.</p>"
      ]
    },
    {
      "cell_type": "markdown",
      "metadata": {
        "id": "dtVO5y7Kuidi",
        "colab_type": "text"
      },
      "source": [
        "<p><strong>Business Problem.</strong> Your task is to format the given data and provide visualizations that would answer the specific questions the client has, which are mentioned below.</p>"
      ]
    },
    {
      "cell_type": "markdown",
      "metadata": {
        "id": "evCW3nByuidi",
        "colab_type": "text"
      },
      "source": [
        "<p><strong>Analytical Context.</strong> You are given a CSV file (stored in the already created <code>data</code> folder) containing details about each accident like date, time, location of the accident, reason for the accident, types of vehicles involved, injury and death count, etc. The delimiter in the given CSV file is <code>;</code> instead of the default <code>,</code>. You will be performing the following tasks on the data:</p>\n",
        "<ol>\n",
        "<li>Extract additional borough data stored in a JSON file</li>\n",
        "<li>Read, transform, and prepare data for visualization</li>\n",
        "<li>Perform analytics and construct visualizations of the data to identify patterns in the dataset</li>\n",
        "</ol>\n",
        "<p>The client has a specific set of questions they would like to get answers to. You will need to provide visualizations to accompany these:</p>\n",
        "<ol>\n",
        "<li>How have the number of accidents fluctuated over the past year and a half? Have they increased over the time?</li>\n",
        "<li>For any particular day, during which hours are accidents most likely to occur?</li>\n",
        "<li>Are there more accidents on weekdays than weekends?</li>\n",
        "<li>What are the accidents count-to-area ratio per borough? Which boroughs have disproportionately large numbers of accidents for their size?</li>\n",
        "<li>For each borough, during which hours are accidents most likely to occur?</li>\n",
        "<li>What are the top 5 causes of accidents in the city? </li>\n",
        "<li>What types of vehicles are most involved in accidents per borough?</li>\n",
        "<li>What types of vehicles are most involved in deaths?</li>\n",
        "</ol>"
      ]
    },
    {
      "cell_type": "markdown",
      "metadata": {
        "id": "dd01WlCNuidj",
        "colab_type": "text"
      },
      "source": [
        "<h2>Fetching the relevant data</h2>"
      ]
    },
    {
      "cell_type": "markdown",
      "metadata": {
        "id": "EhH3NumWuidj",
        "colab_type": "text"
      },
      "source": [
        "<p>The client has requested analysis of the accidents-to-area ratio for boroughs. Borough data is stored in a JSON file in the <code>data</code> folder.</p>"
      ]
    },
    {
      "cell_type": "markdown",
      "metadata": {
        "id": "FSWwv6QKuidk",
        "colab_type": "text"
      },
      "source": [
        "<h3>Question :</h3>\n",
        "<p>Use the function <code>json.load()</code> to load the file <code>borough_data.json</code> as a dictionary.</p>"
      ]
    },
    {
      "cell_type": "markdown",
      "metadata": {
        "tags": [
          "ans_st"
        ],
        "id": "3Us7Dx5Iuidk",
        "colab_type": "text"
      },
      "source": [
        "**Answer.**"
      ]
    },
    {
      "cell_type": "code",
      "metadata": {
        "id": "vMDVJkw9uidk",
        "colab_type": "code",
        "colab": {
          "base_uri": "https://localhost:8080/",
          "height": 153
        },
        "outputId": "0d1a4ae0-8de1-4578-ba7d-663e61e56bbb"
      },
      "source": [
        "json_load = open(r\"borough_data.json\")\n",
        "borough = json.load(json_load)\n",
        "type(borough), borough"
      ],
      "execution_count": 2,
      "outputs": [
        {
          "output_type": "execute_result",
          "data": {
            "text/plain": [
              "(dict,\n",
              " {'bronx': {'area': 42.1, 'name': 'bronx', 'population': 1471160.0},\n",
              "  'brooklyn': {'area': 70.82, 'name': 'brooklyn', 'population': 2648771.0},\n",
              "  'manhattan': {'area': 22.83, 'name': 'manhattan', 'population': 1664727.0},\n",
              "  'queens': {'area': 108.53, 'name': 'queens', 'population': 2358582.0},\n",
              "  'staten island': {'area': 58.37,\n",
              "   'name': 'staten island',\n",
              "   'population': 479458.0}})"
            ]
          },
          "metadata": {
            "tags": []
          },
          "execution_count": 2
        }
      ]
    },
    {
      "cell_type": "markdown",
      "metadata": {
        "id": "uO8uvvIIuidp",
        "colab_type": "text"
      },
      "source": [
        "-------"
      ]
    },
    {
      "cell_type": "markdown",
      "metadata": {
        "id": "w1YkaVRQuidp",
        "colab_type": "text"
      },
      "source": [
        "<h3>Question :</h3>\n",
        "<p>Similarly, use the pandas function <code>read_csv()</code> to load the file <code>accidents.csv</code> as a DataFrame. Name this DataFrame <code>df</code>. </p>"
      ]
    },
    {
      "cell_type": "markdown",
      "metadata": {
        "tags": [
          "ans_st"
        ],
        "id": "mo2NWN4Iuidp",
        "colab_type": "text"
      },
      "source": [
        "**Answer.**"
      ]
    },
    {
      "cell_type": "code",
      "metadata": {
        "id": "6FY7-CGtuidq",
        "colab_type": "code",
        "colab": {
          "base_uri": "https://localhost:8080/",
          "height": 442
        },
        "outputId": "606687eb-3cd7-4afe-9b11-8b857aa46433"
      },
      "source": [
        "df = pd.read_csv(\"accidents.csv\", sep=';')\n",
        "df.dtypes"
      ],
      "execution_count": 3,
      "outputs": [
        {
          "output_type": "execute_result",
          "data": {
            "text/plain": [
              "DATE                              object\n",
              "TIME                              object\n",
              "BOROUGH                           object\n",
              "ZIP CODE                         float64\n",
              "LATITUDE                         float64\n",
              "LONGITUDE                        float64\n",
              "ON STREET NAME                    object\n",
              "NUMBER OF PEDESTRIANS INJURED      int64\n",
              "NUMBER OF PEDESTRIANS KILLED       int64\n",
              "NUMBER OF CYCLIST INJURED          int64\n",
              "NUMBER OF CYCLIST KILLED           int64\n",
              "NUMBER OF MOTORIST INJURED         int64\n",
              "NUMBER OF MOTORIST KILLED          int64\n",
              "CONTRIBUTING FACTOR VEHICLE 1     object\n",
              "CONTRIBUTING FACTOR VEHICLE 2     object\n",
              "CONTRIBUTING FACTOR VEHICLE 3     object\n",
              "CONTRIBUTING FACTOR VEHICLE 4     object\n",
              "CONTRIBUTING FACTOR VEHICLE 5     object\n",
              "COLLISION_ID                       int64\n",
              "VEHICLE TYPE CODE 1               object\n",
              "VEHICLE TYPE CODE 2               object\n",
              "VEHICLE TYPE CODE 3               object\n",
              "VEHICLE TYPE CODE 4               object\n",
              "VEHICLE TYPE CODE 5               object\n",
              "dtype: object"
            ]
          },
          "metadata": {
            "tags": []
          },
          "execution_count": 3
        }
      ]
    },
    {
      "cell_type": "code",
      "metadata": {
        "id": "8cNUCDbcuids",
        "colab_type": "code",
        "colab": {
          "base_uri": "https://localhost:8080/",
          "height": 360
        },
        "outputId": "834a1f62-3748-45cb-ce6f-7d36bf7f3aa0"
      },
      "source": [
        "df.head()"
      ],
      "execution_count": 4,
      "outputs": [
        {
          "output_type": "execute_result",
          "data": {
            "text/html": [
              "<div>\n",
              "<style scoped>\n",
              "    .dataframe tbody tr th:only-of-type {\n",
              "        vertical-align: middle;\n",
              "    }\n",
              "\n",
              "    .dataframe tbody tr th {\n",
              "        vertical-align: top;\n",
              "    }\n",
              "\n",
              "    .dataframe thead th {\n",
              "        text-align: right;\n",
              "    }\n",
              "</style>\n",
              "<table border=\"1\" class=\"dataframe\">\n",
              "  <thead>\n",
              "    <tr style=\"text-align: right;\">\n",
              "      <th></th>\n",
              "      <th>DATE</th>\n",
              "      <th>TIME</th>\n",
              "      <th>BOROUGH</th>\n",
              "      <th>ZIP CODE</th>\n",
              "      <th>LATITUDE</th>\n",
              "      <th>LONGITUDE</th>\n",
              "      <th>ON STREET NAME</th>\n",
              "      <th>NUMBER OF PEDESTRIANS INJURED</th>\n",
              "      <th>NUMBER OF PEDESTRIANS KILLED</th>\n",
              "      <th>NUMBER OF CYCLIST INJURED</th>\n",
              "      <th>NUMBER OF CYCLIST KILLED</th>\n",
              "      <th>NUMBER OF MOTORIST INJURED</th>\n",
              "      <th>NUMBER OF MOTORIST KILLED</th>\n",
              "      <th>CONTRIBUTING FACTOR VEHICLE 1</th>\n",
              "      <th>CONTRIBUTING FACTOR VEHICLE 2</th>\n",
              "      <th>CONTRIBUTING FACTOR VEHICLE 3</th>\n",
              "      <th>CONTRIBUTING FACTOR VEHICLE 4</th>\n",
              "      <th>CONTRIBUTING FACTOR VEHICLE 5</th>\n",
              "      <th>COLLISION_ID</th>\n",
              "      <th>VEHICLE TYPE CODE 1</th>\n",
              "      <th>VEHICLE TYPE CODE 2</th>\n",
              "      <th>VEHICLE TYPE CODE 3</th>\n",
              "      <th>VEHICLE TYPE CODE 4</th>\n",
              "      <th>VEHICLE TYPE CODE 5</th>\n",
              "    </tr>\n",
              "  </thead>\n",
              "  <tbody>\n",
              "    <tr>\n",
              "      <th>0</th>\n",
              "      <td>09/26/2018</td>\n",
              "      <td>12:12</td>\n",
              "      <td>BRONX</td>\n",
              "      <td>10454.0</td>\n",
              "      <td>40.808987</td>\n",
              "      <td>-73.911316</td>\n",
              "      <td>NaN</td>\n",
              "      <td>0</td>\n",
              "      <td>0</td>\n",
              "      <td>0</td>\n",
              "      <td>0</td>\n",
              "      <td>0</td>\n",
              "      <td>0</td>\n",
              "      <td>Unspecified</td>\n",
              "      <td>NaN</td>\n",
              "      <td>NaN</td>\n",
              "      <td>NaN</td>\n",
              "      <td>NaN</td>\n",
              "      <td>3988123</td>\n",
              "      <td>Sedan</td>\n",
              "      <td>NaN</td>\n",
              "      <td>NaN</td>\n",
              "      <td>NaN</td>\n",
              "      <td>NaN</td>\n",
              "    </tr>\n",
              "    <tr>\n",
              "      <th>1</th>\n",
              "      <td>09/25/2018</td>\n",
              "      <td>16:30</td>\n",
              "      <td>BROOKLYN</td>\n",
              "      <td>11236.0</td>\n",
              "      <td>40.636005</td>\n",
              "      <td>-73.912510</td>\n",
              "      <td>FLATLANDS AVENUE</td>\n",
              "      <td>1</td>\n",
              "      <td>0</td>\n",
              "      <td>0</td>\n",
              "      <td>0</td>\n",
              "      <td>0</td>\n",
              "      <td>0</td>\n",
              "      <td>Unspecified</td>\n",
              "      <td>NaN</td>\n",
              "      <td>NaN</td>\n",
              "      <td>NaN</td>\n",
              "      <td>NaN</td>\n",
              "      <td>3987962</td>\n",
              "      <td>Sedan</td>\n",
              "      <td>NaN</td>\n",
              "      <td>NaN</td>\n",
              "      <td>NaN</td>\n",
              "      <td>NaN</td>\n",
              "    </tr>\n",
              "    <tr>\n",
              "      <th>2</th>\n",
              "      <td>08/22/2019</td>\n",
              "      <td>19:30</td>\n",
              "      <td>QUEENS</td>\n",
              "      <td>11101.0</td>\n",
              "      <td>40.755490</td>\n",
              "      <td>-73.939530</td>\n",
              "      <td>NaN</td>\n",
              "      <td>0</td>\n",
              "      <td>0</td>\n",
              "      <td>0</td>\n",
              "      <td>0</td>\n",
              "      <td>0</td>\n",
              "      <td>0</td>\n",
              "      <td>Unspecified</td>\n",
              "      <td>NaN</td>\n",
              "      <td>NaN</td>\n",
              "      <td>NaN</td>\n",
              "      <td>NaN</td>\n",
              "      <td>4193132</td>\n",
              "      <td>Sedan</td>\n",
              "      <td>NaN</td>\n",
              "      <td>NaN</td>\n",
              "      <td>NaN</td>\n",
              "      <td>NaN</td>\n",
              "    </tr>\n",
              "    <tr>\n",
              "      <th>3</th>\n",
              "      <td>09/23/2018</td>\n",
              "      <td>13:10</td>\n",
              "      <td>QUEENS</td>\n",
              "      <td>11367.0</td>\n",
              "      <td>NaN</td>\n",
              "      <td>NaN</td>\n",
              "      <td>MAIN STREET</td>\n",
              "      <td>0</td>\n",
              "      <td>0</td>\n",
              "      <td>1</td>\n",
              "      <td>0</td>\n",
              "      <td>0</td>\n",
              "      <td>0</td>\n",
              "      <td>Driver Inattention/Distraction</td>\n",
              "      <td>Unspecified</td>\n",
              "      <td>NaN</td>\n",
              "      <td>NaN</td>\n",
              "      <td>NaN</td>\n",
              "      <td>3985962</td>\n",
              "      <td>Bike</td>\n",
              "      <td>Station Wagon/Sport Utility Vehicle</td>\n",
              "      <td>NaN</td>\n",
              "      <td>NaN</td>\n",
              "      <td>NaN</td>\n",
              "    </tr>\n",
              "    <tr>\n",
              "      <th>4</th>\n",
              "      <td>08/20/2019</td>\n",
              "      <td>22:40</td>\n",
              "      <td>BRONX</td>\n",
              "      <td>10468.0</td>\n",
              "      <td>40.868336</td>\n",
              "      <td>-73.901270</td>\n",
              "      <td>NaN</td>\n",
              "      <td>0</td>\n",
              "      <td>0</td>\n",
              "      <td>0</td>\n",
              "      <td>0</td>\n",
              "      <td>1</td>\n",
              "      <td>0</td>\n",
              "      <td>View Obstructed/Limited</td>\n",
              "      <td>Unspecified</td>\n",
              "      <td>NaN</td>\n",
              "      <td>NaN</td>\n",
              "      <td>NaN</td>\n",
              "      <td>4192111</td>\n",
              "      <td>Sedan</td>\n",
              "      <td>Sedan</td>\n",
              "      <td>NaN</td>\n",
              "      <td>NaN</td>\n",
              "      <td>NaN</td>\n",
              "    </tr>\n",
              "  </tbody>\n",
              "</table>\n",
              "</div>"
            ],
            "text/plain": [
              "         DATE   TIME  ... VEHICLE TYPE CODE 4  VEHICLE TYPE CODE 5\n",
              "0  09/26/2018  12:12  ...                 NaN                  NaN\n",
              "1  09/25/2018  16:30  ...                 NaN                  NaN\n",
              "2  08/22/2019  19:30  ...                 NaN                  NaN\n",
              "3  09/23/2018  13:10  ...                 NaN                  NaN\n",
              "4  08/20/2019  22:40  ...                 NaN                  NaN\n",
              "\n",
              "[5 rows x 24 columns]"
            ]
          },
          "metadata": {
            "tags": []
          },
          "execution_count": 4
        }
      ]
    },
    {
      "cell_type": "markdown",
      "metadata": {
        "id": "gHZPspbruidv",
        "colab_type": "text"
      },
      "source": [
        "-------"
      ]
    },
    {
      "cell_type": "markdown",
      "metadata": {
        "id": "yXi_WUBruidv",
        "colab_type": "text"
      },
      "source": [
        "<h2>Overview of the data</h2>"
      ]
    },
    {
      "cell_type": "markdown",
      "metadata": {
        "id": "PIsSftx-uidw",
        "colab_type": "text"
      },
      "source": [
        "<p>Let's go through the columns present in the dataframe:</p>"
      ]
    },
    {
      "cell_type": "code",
      "metadata": {
        "id": "pr46sRdGuidw",
        "colab_type": "code",
        "colab": {
          "base_uri": "https://localhost:8080/",
          "height": 187
        },
        "outputId": "93170e5f-a66f-484a-816d-96bbf57c47b9"
      },
      "source": [
        "df.columns"
      ],
      "execution_count": 5,
      "outputs": [
        {
          "output_type": "execute_result",
          "data": {
            "text/plain": [
              "Index(['DATE', 'TIME', 'BOROUGH', 'ZIP CODE', 'LATITUDE', 'LONGITUDE',\n",
              "       'ON STREET NAME', 'NUMBER OF PEDESTRIANS INJURED',\n",
              "       'NUMBER OF PEDESTRIANS KILLED', 'NUMBER OF CYCLIST INJURED',\n",
              "       'NUMBER OF CYCLIST KILLED', 'NUMBER OF MOTORIST INJURED',\n",
              "       'NUMBER OF MOTORIST KILLED', 'CONTRIBUTING FACTOR VEHICLE 1',\n",
              "       'CONTRIBUTING FACTOR VEHICLE 2', 'CONTRIBUTING FACTOR VEHICLE 3',\n",
              "       'CONTRIBUTING FACTOR VEHICLE 4', 'CONTRIBUTING FACTOR VEHICLE 5',\n",
              "       'COLLISION_ID', 'VEHICLE TYPE CODE 1', 'VEHICLE TYPE CODE 2',\n",
              "       'VEHICLE TYPE CODE 3', 'VEHICLE TYPE CODE 4', 'VEHICLE TYPE CODE 5'],\n",
              "      dtype='object')"
            ]
          },
          "metadata": {
            "tags": []
          },
          "execution_count": 5
        }
      ]
    },
    {
      "cell_type": "markdown",
      "metadata": {
        "id": "xP2T8RAVuidz",
        "colab_type": "text"
      },
      "source": [
        "<p>We have the following columns</p>\n",
        "<ol>\n",
        "<li><strong>BOROUGH</strong>: The borough in which the accident occured</li>\n",
        "<li><strong>COLLISION_ID</strong>: A unique identifier for this collision</li>\n",
        "<li><strong>CONTRIBUTING FACTOR VEHICLE (1, 2, 3, 4, 5)</strong>: Reasons for the accident</li>\n",
        "<li><strong>CROSS STREET NAME</strong>: Nearest cross street to the place of accidents</li>\n",
        "<li><strong>DATE</strong>: Date of the accident</li>\n",
        "<li><strong>TIME</strong>: Time of accident</li>\n",
        "<li><strong>LATITUDE</strong>: Latitude of the accident</li>\n",
        "<li><strong>LONGITUDE</strong>: Longitude of the accident</li>\n",
        "<li><strong>NUMBER OF (CYCLISTS, MOTORISTS, PEDESTRIANS) INJURED</strong>: Category wise injury</li>\n",
        "<li><strong>NUMBER OF (CYCLISTS, MOTORISTS, PEDESTRIANS) KILLED</strong>: Category wise death</li>\n",
        "<li><strong>ON STREET NAME</strong>: Street where the accident occured</li>\n",
        "<li><strong>VEHICLE TYPE CODE (1, 2, 3, 4, 5)</strong>: Types of vehicles involved in the accident</li>\n",
        "<li><strong>ZIP CODE</strong>: zip code of the accident location</li>\n",
        "</ol>"
      ]
    },
    {
      "cell_type": "markdown",
      "metadata": {
        "id": "qp2X7lsVuidz",
        "colab_type": "text"
      },
      "source": [
        "<h3>Exercise 1 :</h3>\n",
        "<p>Since 2014, New York City has been implementing a road safety plan named <a href=\"https://www1.nyc.gov/content/visionzero/pages/\">Vision Zero</a>. It aims to reduce the number of traffic deaths to <em>zero</em> by the end of 2024. The plan is creating new and enhancing current safety measures, some of these include:</p>\n",
        "<ul>\n",
        "<li>[ ] Automated pedestrian detection</li>\n",
        "<li>[ ] Road safety audits at high risk locations</li>\n",
        "<li>[ ] Expansion in the cycle track network</li>\n",
        "<li>[ ] Targeted education and awareness initiatives</li>\n",
        "<li>[ ] Creation of pedestrian refuge islands</li>\n",
        "<li>[ ] Launch Integrated Data-Driven Speed Reducer Program (speed humps &amp; speed cushions)</li>\n",
        "</ul>\n",
        "<p>Which of these initiatives could directly benefit from an analysis of the data provided? Check all that apply.</p>\n",
        "<p><strong>Note:</strong> You can create check marks by double-clicking this cell and adding an <code>[x]</code> in the corresponding lines. </p>"
      ]
    },
    {
      "cell_type": "markdown",
      "metadata": {
        "tags": [
          "ans_st"
        ],
        "id": "VnUUdDM6uid0",
        "colab_type": "text"
      },
      "source": [
        "**Answer.**"
      ]
    },
    {
      "cell_type": "markdown",
      "metadata": {
        "id": "TxDMztNcuid0",
        "colab_type": "text"
      },
      "source": [
        "-------<ul>\n",
        "<li>[ ] Automated pedestrian detection</li>\n",
        "<li>[x] Road safety audits at high risk locations</li>\n",
        "<li>[x] Expansion in the cycle track network</li>\n",
        "<li>[x] Targeted education and awareness initiatives</li>\n",
        "<li>[x] Creation of pedestrian refuge islands</li>\n",
        "<li>[x] Launch Integrated Data-Driven Speed Reducer Program (speed humps &amp; speed cushions)</li>\n",
        "</ul>"
      ]
    },
    {
      "cell_type": "markdown",
      "metadata": {
        "id": "HGrvPkEguid1",
        "colab_type": "text"
      },
      "source": [
        "<p>Let's go ahead and answer each of the client's questions.</p>"
      ]
    },
    {
      "cell_type": "markdown",
      "metadata": {
        "id": "cadkc_wuuid1",
        "colab_type": "text"
      },
      "source": [
        "<h2>Answering the client's questions</h2>"
      ]
    },
    {
      "cell_type": "markdown",
      "metadata": {
        "id": "dqibnCBEuid1",
        "colab_type": "text"
      },
      "source": [
        "<h3>Exercise 2 :</h3>\n",
        "<p>Group the available data on a monthly basis and generate a line plot of accidents over time. Has the number of accidents increased over the past year and a half?</p>\n",
        "<p><strong>Hint</strong>: You may find the pandas functions <code>to_datetime()</code> and <code>dt.to_period()</code> useful.</p>"
      ]
    },
    {
      "cell_type": "markdown",
      "metadata": {
        "tags": [
          "ans_st"
        ],
        "id": "UEa8l2Atuid2",
        "colab_type": "text"
      },
      "source": [
        "**Answer.**"
      ]
    },
    {
      "cell_type": "code",
      "metadata": {
        "id": "ytPQqvJ2uid2",
        "colab_type": "code",
        "colab": {}
      },
      "source": [
        "df['date'] = pd.to_datetime(df['DATE'])\n",
        "serie = df.groupby(df['date'].dt.to_period('M'))['DATE'].count()"
      ],
      "execution_count": 6,
      "outputs": []
    },
    {
      "cell_type": "code",
      "metadata": {
        "id": "m9gFlugMuid7",
        "colab_type": "code",
        "colab": {
          "base_uri": "https://localhost:8080/",
          "height": 308
        },
        "outputId": "ab9a6d3a-9a04-4e10-c2f8-d47841a7d298"
      },
      "source": [
        "serie.plot()"
      ],
      "execution_count": 7,
      "outputs": [
        {
          "output_type": "execute_result",
          "data": {
            "text/plain": [
              "<matplotlib.axes._subplots.AxesSubplot at 0x7f0cffc4a860>"
            ]
          },
          "metadata": {
            "tags": []
          },
          "execution_count": 7
        },
        {
          "output_type": "display_data",
          "data": {
            "image/png": "[encoded data removed]",
            "text/plain": [
              "<Figure size 432x288 with 1 Axes>"
            ]
          },
          "metadata": {
            "tags": [],
            "needs_background": "light"
          }
        }
      ]
    },
    {
      "cell_type": "code",
      "metadata": {
        "id": "f-mBxidkuid_",
        "colab_type": "code",
        "colab": {
          "base_uri": "https://localhost:8080/",
          "height": 700
        },
        "outputId": "46f4d72a-2837-45df-fa08-1e6a68b384b8"
      },
      "source": [
        "#Transformo seria a tipo dataframe\n",
        "serie_data_frame = pd.DataFrame(serie)\n",
        "serie_data_frame.iloc[:]"
      ],
      "execution_count": 8,
      "outputs": [
        {
          "output_type": "execute_result",
          "data": {
            "text/html": [
              "<div>\n",
              "<style scoped>\n",
              "    .dataframe tbody tr th:only-of-type {\n",
              "        vertical-align: middle;\n",
              "    }\n",
              "\n",
              "    .dataframe tbody tr th {\n",
              "        vertical-align: top;\n",
              "    }\n",
              "\n",
              "    .dataframe thead th {\n",
              "        text-align: right;\n",
              "    }\n",
              "</style>\n",
              "<table border=\"1\" class=\"dataframe\">\n",
              "  <thead>\n",
              "    <tr style=\"text-align: right;\">\n",
              "      <th></th>\n",
              "      <th>DATE</th>\n",
              "    </tr>\n",
              "    <tr>\n",
              "      <th>date</th>\n",
              "      <th></th>\n",
              "    </tr>\n",
              "  </thead>\n",
              "  <tbody>\n",
              "    <tr>\n",
              "      <th>2018-01</th>\n",
              "      <td>11735</td>\n",
              "    </tr>\n",
              "    <tr>\n",
              "      <th>2018-02</th>\n",
              "      <td>10395</td>\n",
              "    </tr>\n",
              "    <tr>\n",
              "      <th>2018-03</th>\n",
              "      <td>12519</td>\n",
              "    </tr>\n",
              "    <tr>\n",
              "      <th>2018-04</th>\n",
              "      <td>11679</td>\n",
              "    </tr>\n",
              "    <tr>\n",
              "      <th>2018-05</th>\n",
              "      <td>13438</td>\n",
              "    </tr>\n",
              "    <tr>\n",
              "      <th>2018-06</th>\n",
              "      <td>13314</td>\n",
              "    </tr>\n",
              "    <tr>\n",
              "      <th>2018-07</th>\n",
              "      <td>12787</td>\n",
              "    </tr>\n",
              "    <tr>\n",
              "      <th>2018-08</th>\n",
              "      <td>12644</td>\n",
              "    </tr>\n",
              "    <tr>\n",
              "      <th>2018-09</th>\n",
              "      <td>12425</td>\n",
              "    </tr>\n",
              "    <tr>\n",
              "      <th>2018-10</th>\n",
              "      <td>13336</td>\n",
              "    </tr>\n",
              "    <tr>\n",
              "      <th>2018-11</th>\n",
              "      <td>12447</td>\n",
              "    </tr>\n",
              "    <tr>\n",
              "      <th>2018-12</th>\n",
              "      <td>12479</td>\n",
              "    </tr>\n",
              "    <tr>\n",
              "      <th>2019-01</th>\n",
              "      <td>11000</td>\n",
              "    </tr>\n",
              "    <tr>\n",
              "      <th>2019-02</th>\n",
              "      <td>10310</td>\n",
              "    </tr>\n",
              "    <tr>\n",
              "      <th>2019-03</th>\n",
              "      <td>11482</td>\n",
              "    </tr>\n",
              "    <tr>\n",
              "      <th>2019-04</th>\n",
              "      <td>10833</td>\n",
              "    </tr>\n",
              "    <tr>\n",
              "      <th>2019-05</th>\n",
              "      <td>12642</td>\n",
              "    </tr>\n",
              "    <tr>\n",
              "      <th>2019-06</th>\n",
              "      <td>12577</td>\n",
              "    </tr>\n",
              "    <tr>\n",
              "      <th>2019-07</th>\n",
              "      <td>12014</td>\n",
              "    </tr>\n",
              "    <tr>\n",
              "      <th>2019-08</th>\n",
              "      <td>8466</td>\n",
              "    </tr>\n",
              "  </tbody>\n",
              "</table>\n",
              "</div>"
            ],
            "text/plain": [
              "          DATE\n",
              "date          \n",
              "2018-01  11735\n",
              "2018-02  10395\n",
              "2018-03  12519\n",
              "2018-04  11679\n",
              "2018-05  13438\n",
              "2018-06  13314\n",
              "2018-07  12787\n",
              "2018-08  12644\n",
              "2018-09  12425\n",
              "2018-10  13336\n",
              "2018-11  12447\n",
              "2018-12  12479\n",
              "2019-01  11000\n",
              "2019-02  10310\n",
              "2019-03  11482\n",
              "2019-04  10833\n",
              "2019-05  12642\n",
              "2019-06  12577\n",
              "2019-07  12014\n",
              "2019-08   8466"
            ]
          },
          "metadata": {
            "tags": []
          },
          "execution_count": 8
        }
      ]
    },
    {
      "cell_type": "markdown",
      "metadata": {
        "id": "CO4kcBZIuieB",
        "colab_type": "text"
      },
      "source": [
        "The month of August of 2019 apparently does not have every day (only to 25 of august), uotlayer data. Qualitatively, 2019 has fewer accidents, but there are seasonalities in some months in which the number of accidents accelerates. To validate the previous hypothesis, it is recommended to have more data. "
      ]
    },
    {
      "cell_type": "code",
      "metadata": {
        "id": "1k2-_dRruieD",
        "colab_type": "code",
        "colab": {
          "base_uri": "https://localhost:8080/",
          "height": 459
        },
        "outputId": "3cd9c431-cf3c-4640-b63e-965db3f123df"
      },
      "source": [
        "filtered_df = df.query(\"date >= '2019-08-01' and date <='2019-08-31'\")\n",
        "serie2 = filtered_df.groupby(filtered_df['date'].dt.to_period('D'))['DATE'].count()\n",
        "serie2\n",
        "\n",
        "#Se observa que tiene registros hasta el día 24 de agosto"
      ],
      "execution_count": 9,
      "outputs": [
        {
          "output_type": "execute_result",
          "data": {
            "text/plain": [
              "date\n",
              "2019-08-01    393\n",
              "2019-08-02    386\n",
              "2019-08-03    373\n",
              "2019-08-04    314\n",
              "2019-08-05    409\n",
              "2019-08-06    345\n",
              "2019-08-07    379\n",
              "2019-08-08    429\n",
              "2019-08-09    406\n",
              "2019-08-10    371\n",
              "2019-08-11    296\n",
              "2019-08-12    377\n",
              "2019-08-13    305\n",
              "2019-08-14    353\n",
              "2019-08-15    354\n",
              "2019-08-16    341\n",
              "2019-08-17    354\n",
              "2019-08-18    304\n",
              "2019-08-19    359\n",
              "2019-08-20    360\n",
              "2019-08-21    333\n",
              "2019-08-22    333\n",
              "2019-08-23    311\n",
              "2019-08-24    281\n",
              "Freq: D, Name: DATE, dtype: int64"
            ]
          },
          "metadata": {
            "tags": []
          },
          "execution_count": 9
        }
      ]
    },
    {
      "cell_type": "code",
      "metadata": {
        "id": "y6bI8dHduieB",
        "colab_type": "code",
        "colab": {
          "base_uri": "https://localhost:8080/",
          "height": 88
        },
        "outputId": "e253a531-a83c-422c-d8d5-2074f748488a"
      },
      "source": [
        "filtered_df = df.query(\"date >= '2019-08-25' and date <='2019-08-31'\")\n",
        "print(filtered_df)\n",
        "#Se confirma que posterior al 24 de agosto, no hay registros en el mes."
      ],
      "execution_count": 10,
      "outputs": [
        {
          "output_type": "stream",
          "text": [
            "Empty DataFrame\n",
            "Columns: [DATE, TIME, BOROUGH, ZIP CODE, LATITUDE, LONGITUDE, ON STREET NAME, NUMBER OF PEDESTRIANS INJURED, NUMBER OF PEDESTRIANS KILLED, NUMBER OF CYCLIST INJURED, NUMBER OF CYCLIST KILLED, NUMBER OF MOTORIST INJURED, NUMBER OF MOTORIST KILLED, CONTRIBUTING FACTOR VEHICLE 1, CONTRIBUTING FACTOR VEHICLE 2, CONTRIBUTING FACTOR VEHICLE 3, CONTRIBUTING FACTOR VEHICLE 4, CONTRIBUTING FACTOR VEHICLE 5, COLLISION_ID, VEHICLE TYPE CODE 1, VEHICLE TYPE CODE 2, VEHICLE TYPE CODE 3, VEHICLE TYPE CODE 4, VEHICLE TYPE CODE 5, date]\n",
            "Index: []\n"
          ],
          "name": "stdout"
        }
      ]
    },
    {
      "cell_type": "markdown",
      "metadata": {
        "id": "vxu2FbQa_FII",
        "colab_type": "text"
      },
      "source": [
        "***Teniendo como base la gráfica de líneas realizada, observo mínimos anuales en el mes de febrero (puede ser debido a que es un mes con un menor número de días), adicionalmente se observa una cantidad reducida de sucesos en el mes de agosto del 2019, lo cual puede ser debido a falta de datos, ya que no hay registro de algunos días de este mes.***"
      ]
    },
    {
      "cell_type": "markdown",
      "metadata": {
        "id": "fxktp0qbuieI",
        "colab_type": "text"
      },
      "source": [
        "<h3>Exercise 3 :</h3>\n",
        "<p>From the plot above, which months seem to have the least number of accidents? What do you think are the reasons behind this?</p>"
      ]
    },
    {
      "cell_type": "markdown",
      "metadata": {
        "tags": [
          "ans_st"
        ],
        "id": "M9mcaPD8uieI",
        "colab_type": "text"
      },
      "source": [
        "**Answer.**"
      ]
    },
    {
      "cell_type": "markdown",
      "metadata": {
        "id": "901CoXesuieJ",
        "colab_type": "text"
      },
      "source": [
        "-------January, February, and April appear to have fewer records for both years; They can be seasonal themes, winter among others, in which there is less traffic."
      ]
    },
    {
      "cell_type": "markdown",
      "metadata": {
        "id": "YQEadhUUAGWy",
        "colab_type": "text"
      },
      "source": [
        "Se observa una menor cantidad en los meses de febrero, pero esto puede ser debido a la cantidad de días que posee dicho mes es menor en comparación con los demás. "
      ]
    },
    {
      "cell_type": "markdown",
      "metadata": {
        "id": "kaSPhL5guieJ",
        "colab_type": "text"
      },
      "source": [
        "<h3>Exercise 4 :</h3>\n",
        "<p>How does the number of accidents vary throughout a single day? Create a new column <code>HOUR</code> based on the data from the <code>TIME</code> column, then plot a bar graph of the distribution per hour throughout the day.</p>\n",
        "<p><strong>Hint:</strong> You may find the function <code>dt.hour</code> useful. </p>"
      ]
    },
    {
      "cell_type": "markdown",
      "metadata": {
        "tags": [
          "ans_st"
        ],
        "id": "O6yhVgm1uieK",
        "colab_type": "text"
      },
      "source": [
        "**Answer.**"
      ]
    },
    {
      "cell_type": "markdown",
      "metadata": {
        "id": "33O49N0iuieK",
        "colab_type": "text"
      },
      "source": [
        "<p>From this, we see that more accidents occur in the afternoon (2 - 6 PM) than at other times of day.</p>"
      ]
    },
    {
      "cell_type": "code",
      "metadata": {
        "id": "ZmkgwuavuieL",
        "colab_type": "code",
        "colab": {}
      },
      "source": [
        "df['time'] =pd.to_datetime(df['TIME'])"
      ],
      "execution_count": 11,
      "outputs": []
    },
    {
      "cell_type": "code",
      "metadata": {
        "id": "eosI9ADXuieN",
        "colab_type": "code",
        "colab": {}
      },
      "source": [
        "df[\"HOUR\"] = df.time.dt.hour"
      ],
      "execution_count": 12,
      "outputs": []
    },
    {
      "cell_type": "code",
      "metadata": {
        "id": "OvvWCIwxuieP",
        "colab_type": "code",
        "colab": {
          "base_uri": "https://localhost:8080/",
          "height": 298
        },
        "outputId": "e596d4b5-7f24-4801-ba80-3f9c5685b568"
      },
      "source": [
        "#Graficas por clases\n",
        "count_classes = pd.value_counts(df.HOUR, sort = False)\n",
        "count_classes.plot.bar()\n",
        "plt.title(\"Count per hours\")\n",
        "plt.xlabel(\"hour\")\n",
        "plt.ylabel(\"Frecuency accidents\");"
      ],
      "execution_count": 13,
      "outputs": [
        {
          "output_type": "display_data",
          "data": {
            "image/png": "[encoded data removed]",
            "text/plain": [
              "<Figure size 432x288 with 1 Axes>"
            ]
          },
          "metadata": {
            "tags": [],
            "needs_background": "light"
          }
        }
      ]
    },
    {
      "cell_type": "code",
      "metadata": {
        "id": "i2MtWU4muieQ",
        "colab_type": "code",
        "colab": {
          "base_uri": "https://localhost:8080/",
          "height": 369
        },
        "outputId": "fad7044b-be06-4098-db15-c84022db8049"
      },
      "source": [
        "sns.catplot(x = \"HOUR\", data = df, kind = \"count\");"
      ],
      "execution_count": 14,
      "outputs": [
        {
          "output_type": "display_data",
          "data": {
            "image/png": "[encoded data removed]",
            "text/plain": [
              "<Figure size 360x360 with 1 Axes>"
            ]
          },
          "metadata": {
            "tags": [],
            "needs_background": "light"
          }
        }
      ]
    },
    {
      "cell_type": "code",
      "metadata": {
        "id": "2I0by3IhuieS",
        "colab_type": "code",
        "colab": {
          "base_uri": "https://localhost:8080/",
          "height": 442
        },
        "outputId": "c1c4e9ef-f701-4450-9319-fde2d468bbd6"
      },
      "source": [
        "count_classes = pd.value_counts(df.HOUR, sort = True)\n",
        "count_classes"
      ],
      "execution_count": 15,
      "outputs": [
        {
          "output_type": "execute_result",
          "data": {
            "text/plain": [
              "16    17536\n",
              "17    17209\n",
              "14    16889\n",
              "15    15886\n",
              "18    14899\n",
              "13    14224\n",
              "12    13731\n",
              "8     13403\n",
              "9     12939\n",
              "11    12815\n",
              "10    11981\n",
              "19    11885\n",
              "20     9597\n",
              "21     8330\n",
              "0      8160\n",
              "7      7399\n",
              "22     7216\n",
              "23     5807\n",
              "6      4844\n",
              "1      3460\n",
              "5      2878\n",
              "2      2570\n",
              "4      2562\n",
              "3      2302\n",
              "Name: HOUR, dtype: int64"
            ]
          },
          "metadata": {
            "tags": []
          },
          "execution_count": 15
        }
      ]
    },
    {
      "cell_type": "markdown",
      "metadata": {
        "id": "ouEIFI0nuieU",
        "colab_type": "text"
      },
      "source": [
        "<h3>Exercise 5 :</h3>\n",
        "<p>In the above question we have aggregated the number accidents per hour disregarding the date and place of ocurrence. Which criticism would you give to this approach?</p>"
      ]
    },
    {
      "cell_type": "markdown",
      "metadata": {
        "tags": [
          "ans_st"
        ],
        "id": "fPdKkshAuieU",
        "colab_type": "text"
      },
      "source": [
        "**Answer.**"
      ]
    },
    {
      "cell_type": "markdown",
      "metadata": {
        "id": "dQB2wNZAuieV",
        "colab_type": "text"
      },
      "source": [
        "-------\n",
        "* The hour factor is important, but by itself it can lead to misinterpretation. Crossing the day of the week can indicate which are the days with the highest frequency of accidents per hour; The hours of a Sunday are not the same as those of a Friday; In addition, it can be said which days it has similar behavior. <br/>\n",
        "\n",
        "* Making another category or table crossed between place and time can indicate us spaces with the highest frequency of accidents in an hour to determine and that if it can be used to take preventive measures and if we add the day to that, the qualitative summary of the data would be substantially improved."
      ]
    },
    {
      "cell_type": "markdown",
      "metadata": {
        "id": "jFDeZ_DDCZ9d",
        "colab_type": "text"
      },
      "source": [
        "**Aunque no se tuvieron en cuenta estas dos variables, al tener una información como la obtenida anteriormente, se pueden tomar medidas preventivas para evitar estos sucesos. De todos modos si se cruza con los lugares de ocurrencia y las fechas, se puede modelar de una manera más detallada y así focalizar, por ejemplo, zonas donde mayor impacto hay de accidentes en cierta temporada y a cierta hora del día, para así darle un mayor control.**"
      ]
    },
    {
      "cell_type": "markdown",
      "metadata": {
        "id": "qCCTuz3SuieV",
        "colab_type": "text"
      },
      "source": [
        "<h3>Exercise 6 :</h3>\n",
        "<p>How does the number of accidents vary throughout a single week? Plot a bar graph based on the accidents count by day of the week.</p>\n",
        "<p><strong>Hint:</strong> You may find the function <code>dt.weekday</code> useful.</p>"
      ]
    },
    {
      "cell_type": "markdown",
      "metadata": {
        "tags": [
          "ans_st"
        ],
        "id": "m9GAXilnuieW",
        "colab_type": "text"
      },
      "source": [
        "**Answer.**"
      ]
    },
    {
      "cell_type": "code",
      "metadata": {
        "id": "Fsjl9kxcuieW",
        "colab_type": "code",
        "colab": {
          "base_uri": "https://localhost:8080/",
          "height": 292
        },
        "outputId": "d015b3e4-6d99-4b18-d695-4ab71e81ad7c"
      },
      "source": [
        "df[\"day\"] = df.date.dt.weekday\n",
        "count_classes = pd.value_counts(df.day, sort = False)\n",
        "count_classes.plot.bar()\n",
        "plt.title(\"Count per day\")\n",
        "plt.xlabel(\"day\")\n",
        "plt.ylabel(\"Frecuency accidents\");"
      ],
      "execution_count": 16,
      "outputs": [
        {
          "output_type": "display_data",
          "data": {
            "image/png": "[encoded data removed]",
            "text/plain": [
              "<Figure size 432x288 with 1 Axes>"
            ]
          },
          "metadata": {
            "tags": [],
            "needs_background": "light"
          }
        }
      ]
    },
    {
      "cell_type": "code",
      "metadata": {
        "id": "lneC9544uieZ",
        "colab_type": "code",
        "colab": {
          "base_uri": "https://localhost:8080/",
          "height": 153
        },
        "outputId": "ca62d01b-3b62-499c-c79c-84ba3be6864c"
      },
      "source": [
        "count_classes = pd.value_counts(df.day, sort = True)\n",
        "count_classes"
      ],
      "execution_count": 17,
      "outputs": [
        {
          "output_type": "execute_result",
          "data": {
            "text/plain": [
              "4    37886\n",
              "3    36254\n",
              "1    35651\n",
              "2    35188\n",
              "0    34719\n",
              "5    31784\n",
              "6    27040\n",
              "Name: day, dtype: int64"
            ]
          },
          "metadata": {
            "tags": []
          },
          "execution_count": 17
        }
      ]
    },
    {
      "cell_type": "code",
      "metadata": {
        "id": "QKgy1XoJuieb",
        "colab_type": "code",
        "colab": {
          "base_uri": "https://localhost:8080/",
          "height": 496
        },
        "outputId": "f0a3edc2-8e0d-47ac-edc2-e1dfd915b668"
      },
      "source": [
        "preserved_mapper = {0: 'Mon', 1: 'Tues', 2: 'Wed', 3: 'Thur', 4: 'Fri', 5: 'Sat', 6: 'Sun'}\n",
        "df['day_1'] =df.day.replace(preserved_mapper)\n",
        "df = df.sort_values('day')\n",
        "df.head()"
      ],
      "execution_count": 18,
      "outputs": [
        {
          "output_type": "execute_result",
          "data": {
            "text/html": [
              "<div>\n",
              "<style scoped>\n",
              "    .dataframe tbody tr th:only-of-type {\n",
              "        vertical-align: middle;\n",
              "    }\n",
              "\n",
              "    .dataframe tbody tr th {\n",
              "        vertical-align: top;\n",
              "    }\n",
              "\n",
              "    .dataframe thead th {\n",
              "        text-align: right;\n",
              "    }\n",
              "</style>\n",
              "<table border=\"1\" class=\"dataframe\">\n",
              "  <thead>\n",
              "    <tr style=\"text-align: right;\">\n",
              "      <th></th>\n",
              "      <th>DATE</th>\n",
              "      <th>TIME</th>\n",
              "      <th>BOROUGH</th>\n",
              "      <th>ZIP CODE</th>\n",
              "      <th>LATITUDE</th>\n",
              "      <th>LONGITUDE</th>\n",
              "      <th>ON STREET NAME</th>\n",
              "      <th>NUMBER OF PEDESTRIANS INJURED</th>\n",
              "      <th>NUMBER OF PEDESTRIANS KILLED</th>\n",
              "      <th>NUMBER OF CYCLIST INJURED</th>\n",
              "      <th>NUMBER OF CYCLIST KILLED</th>\n",
              "      <th>NUMBER OF MOTORIST INJURED</th>\n",
              "      <th>NUMBER OF MOTORIST KILLED</th>\n",
              "      <th>CONTRIBUTING FACTOR VEHICLE 1</th>\n",
              "      <th>CONTRIBUTING FACTOR VEHICLE 2</th>\n",
              "      <th>CONTRIBUTING FACTOR VEHICLE 3</th>\n",
              "      <th>CONTRIBUTING FACTOR VEHICLE 4</th>\n",
              "      <th>CONTRIBUTING FACTOR VEHICLE 5</th>\n",
              "      <th>COLLISION_ID</th>\n",
              "      <th>VEHICLE TYPE CODE 1</th>\n",
              "      <th>VEHICLE TYPE CODE 2</th>\n",
              "      <th>VEHICLE TYPE CODE 3</th>\n",
              "      <th>VEHICLE TYPE CODE 4</th>\n",
              "      <th>VEHICLE TYPE CODE 5</th>\n",
              "      <th>date</th>\n",
              "      <th>time</th>\n",
              "      <th>HOUR</th>\n",
              "      <th>day</th>\n",
              "      <th>day_1</th>\n",
              "    </tr>\n",
              "  </thead>\n",
              "  <tbody>\n",
              "    <tr>\n",
              "      <th>180048</th>\n",
              "      <td>05/07/2018</td>\n",
              "      <td>17:30</td>\n",
              "      <td>MANHATTAN</td>\n",
              "      <td>10018.0</td>\n",
              "      <td>40.757732</td>\n",
              "      <td>-73.99686</td>\n",
              "      <td>10 AVENUE</td>\n",
              "      <td>0</td>\n",
              "      <td>0</td>\n",
              "      <td>0</td>\n",
              "      <td>0</td>\n",
              "      <td>0</td>\n",
              "      <td>0</td>\n",
              "      <td>Passing or Lane Usage Improper</td>\n",
              "      <td>Unspecified</td>\n",
              "      <td>NaN</td>\n",
              "      <td>NaN</td>\n",
              "      <td>NaN</td>\n",
              "      <td>3897725</td>\n",
              "      <td>Station Wagon/Sport Utility Vehicle</td>\n",
              "      <td>Box Truck</td>\n",
              "      <td>NaN</td>\n",
              "      <td>NaN</td>\n",
              "      <td>NaN</td>\n",
              "      <td>2018-05-07</td>\n",
              "      <td>2020-09-08 17:30:00</td>\n",
              "      <td>17</td>\n",
              "      <td>0</td>\n",
              "      <td>Mon</td>\n",
              "    </tr>\n",
              "    <tr>\n",
              "      <th>193140</th>\n",
              "      <td>05/21/2018</td>\n",
              "      <td>11:30</td>\n",
              "      <td>QUEENS</td>\n",
              "      <td>11375.0</td>\n",
              "      <td>40.715523</td>\n",
              "      <td>-73.84236</td>\n",
              "      <td>ASCAN AVENUE</td>\n",
              "      <td>0</td>\n",
              "      <td>0</td>\n",
              "      <td>0</td>\n",
              "      <td>0</td>\n",
              "      <td>0</td>\n",
              "      <td>0</td>\n",
              "      <td>Turning Improperly</td>\n",
              "      <td>Unspecified</td>\n",
              "      <td>Unspecified</td>\n",
              "      <td>NaN</td>\n",
              "      <td>NaN</td>\n",
              "      <td>3905397</td>\n",
              "      <td>Station Wagon/Sport Utility Vehicle</td>\n",
              "      <td>Station Wagon/Sport Utility Vehicle</td>\n",
              "      <td>Sedan</td>\n",
              "      <td>NaN</td>\n",
              "      <td>NaN</td>\n",
              "      <td>2018-05-21</td>\n",
              "      <td>2020-09-08 11:30:00</td>\n",
              "      <td>11</td>\n",
              "      <td>0</td>\n",
              "      <td>Mon</td>\n",
              "    </tr>\n",
              "    <tr>\n",
              "      <th>103078</th>\n",
              "      <td>02/18/2019</td>\n",
              "      <td>4:46</td>\n",
              "      <td>BROOKLYN</td>\n",
              "      <td>11237.0</td>\n",
              "      <td>40.712963</td>\n",
              "      <td>-73.92761</td>\n",
              "      <td>MEADOW STREET</td>\n",
              "      <td>0</td>\n",
              "      <td>0</td>\n",
              "      <td>0</td>\n",
              "      <td>0</td>\n",
              "      <td>0</td>\n",
              "      <td>0</td>\n",
              "      <td>Unspecified</td>\n",
              "      <td>NaN</td>\n",
              "      <td>NaN</td>\n",
              "      <td>NaN</td>\n",
              "      <td>NaN</td>\n",
              "      <td>4082526</td>\n",
              "      <td>Sedan</td>\n",
              "      <td>NaN</td>\n",
              "      <td>NaN</td>\n",
              "      <td>NaN</td>\n",
              "      <td>NaN</td>\n",
              "      <td>2019-02-18</td>\n",
              "      <td>2020-09-08 04:46:00</td>\n",
              "      <td>4</td>\n",
              "      <td>0</td>\n",
              "      <td>Mon</td>\n",
              "    </tr>\n",
              "    <tr>\n",
              "      <th>29044</th>\n",
              "      <td>07/08/2019</td>\n",
              "      <td>8:30</td>\n",
              "      <td>MANHATTAN</td>\n",
              "      <td>10028.0</td>\n",
              "      <td>40.779540</td>\n",
              "      <td>-73.95978</td>\n",
              "      <td>EAST 84 STREET</td>\n",
              "      <td>0</td>\n",
              "      <td>0</td>\n",
              "      <td>0</td>\n",
              "      <td>0</td>\n",
              "      <td>0</td>\n",
              "      <td>0</td>\n",
              "      <td>Passing or Lane Usage Improper</td>\n",
              "      <td>Driver Inexperience</td>\n",
              "      <td>NaN</td>\n",
              "      <td>NaN</td>\n",
              "      <td>NaN</td>\n",
              "      <td>4166413</td>\n",
              "      <td>Taxi</td>\n",
              "      <td>Taxi</td>\n",
              "      <td>NaN</td>\n",
              "      <td>NaN</td>\n",
              "      <td>NaN</td>\n",
              "      <td>2019-07-08</td>\n",
              "      <td>2020-09-08 08:30:00</td>\n",
              "      <td>8</td>\n",
              "      <td>0</td>\n",
              "      <td>Mon</td>\n",
              "    </tr>\n",
              "    <tr>\n",
              "      <th>29045</th>\n",
              "      <td>06/10/2019</td>\n",
              "      <td>0:00</td>\n",
              "      <td>BRONX</td>\n",
              "      <td>10455.0</td>\n",
              "      <td>40.812283</td>\n",
              "      <td>-73.90447</td>\n",
              "      <td>EAST 149 STREET</td>\n",
              "      <td>0</td>\n",
              "      <td>0</td>\n",
              "      <td>0</td>\n",
              "      <td>0</td>\n",
              "      <td>0</td>\n",
              "      <td>0</td>\n",
              "      <td>Passing or Lane Usage Improper</td>\n",
              "      <td>Passing or Lane Usage Improper</td>\n",
              "      <td>NaN</td>\n",
              "      <td>NaN</td>\n",
              "      <td>NaN</td>\n",
              "      <td>4148438</td>\n",
              "      <td>Sedan</td>\n",
              "      <td>Station Wagon/Sport Utility Vehicle</td>\n",
              "      <td>NaN</td>\n",
              "      <td>NaN</td>\n",
              "      <td>NaN</td>\n",
              "      <td>2019-06-10</td>\n",
              "      <td>2020-09-08 00:00:00</td>\n",
              "      <td>0</td>\n",
              "      <td>0</td>\n",
              "      <td>Mon</td>\n",
              "    </tr>\n",
              "  </tbody>\n",
              "</table>\n",
              "</div>"
            ],
            "text/plain": [
              "              DATE   TIME    BOROUGH  ...  HOUR  day  day_1\n",
              "180048  05/07/2018  17:30  MANHATTAN  ...    17    0    Mon\n",
              "193140  05/21/2018  11:30     QUEENS  ...    11    0    Mon\n",
              "103078  02/18/2019   4:46   BROOKLYN  ...     4    0    Mon\n",
              "29044   07/08/2019   8:30  MANHATTAN  ...     8    0    Mon\n",
              "29045   06/10/2019   0:00      BRONX  ...     0    0    Mon\n",
              "\n",
              "[5 rows x 29 columns]"
            ]
          },
          "metadata": {
            "tags": []
          },
          "execution_count": 18
        }
      ]
    },
    {
      "cell_type": "code",
      "metadata": {
        "id": "-LAxyFUNuied",
        "colab_type": "code",
        "colab": {
          "base_uri": "https://localhost:8080/",
          "height": 369
        },
        "outputId": "31466473-198d-479d-eb93-ed224fc55c60"
      },
      "source": [
        "sns.catplot(x = \"day_1\", data = df, kind = \"count\");"
      ],
      "execution_count": 19,
      "outputs": [
        {
          "output_type": "display_data",
          "data": {
            "image/png": "[encoded data removed]",
            "text/plain": [
              "<Figure size 360x360 with 1 Axes>"
            ]
          },
          "metadata": {
            "tags": [],
            "needs_background": "light"
          }
        }
      ]
    },
    {
      "cell_type": "code",
      "metadata": {
        "id": "gdixQfKTuief",
        "colab_type": "code",
        "colab": {
          "base_uri": "https://localhost:8080/",
          "height": 280
        },
        "outputId": "4bfdd63f-c952-4dde-acd5-3d335b0c2d00"
      },
      "source": [
        "groupedvalues = df.groupby('day_1').count().reset_index()\n",
        "g= sns.barplot(x = 'day_1', y = 'day', data = groupedvalues)\n",
        "for index, row in groupedvalues.iterrows():\n",
        "    g.text(row.name, row.day - 16, round(row.day, 2), color = 'black', ha = \"center\")"
      ],
      "execution_count": 20,
      "outputs": [
        {
          "output_type": "display_data",
          "data": {
            "image/png": "[encoded data removed]",
            "text/plain": [
              "<Figure size 432x288 with 1 Axes>"
            ]
          },
          "metadata": {
            "tags": [],
            "needs_background": "light"
          }
        }
      ]
    },
    {
      "cell_type": "markdown",
      "metadata": {
        "id": "hfiH9slmuieg",
        "colab_type": "text"
      },
      "source": [
        "<h3>Exercise 7 :</h3>\n",
        "<p>Plot a bar graph of the total number of accidents in each borough, as well as one of the accidents per square mile per borough. What can you conclude?</p>\n",
        "<p><strong>Hint:</strong> You may want to update some of the keys in the borough dictionary to match the names in the dataframe. </p>"
      ]
    },
    {
      "cell_type": "markdown",
      "metadata": {
        "id": "glkwvJTluieh",
        "colab_type": "text"
      },
      "source": [
        "**Answer.**"
      ]
    },
    {
      "cell_type": "code",
      "metadata": {
        "id": "18V0kSuUuieh",
        "colab_type": "code",
        "colab": {
          "base_uri": "https://localhost:8080/",
          "height": 369
        },
        "outputId": "4a54d457-fc4b-4a8b-d0ae-a0669a62bb90"
      },
      "source": [
        "sns.catplot(x = \"BOROUGH\", data = df, kind = \"count\");"
      ],
      "execution_count": 21,
      "outputs": [
        {
          "output_type": "display_data",
          "data": {
            "image/png": "[encoded data removed]",
            "text/plain": [
              "<Figure size 360x360 with 1 Axes>"
            ]
          },
          "metadata": {
            "tags": [],
            "needs_background": "light"
          }
        }
      ]
    },
    {
      "cell_type": "code",
      "metadata": {
        "id": "4xXIrNHauiej",
        "colab_type": "code",
        "colab": {
          "base_uri": "https://localhost:8080/",
          "height": 119
        },
        "outputId": "fa85566d-674a-4a03-d8ad-be1426a8e041"
      },
      "source": [
        "pd.value_counts(df.BOROUGH, sort = True)"
      ],
      "execution_count": 22,
      "outputs": [
        {
          "output_type": "execute_result",
          "data": {
            "text/plain": [
              "BROOKLYN         76253\n",
              "QUEENS           67120\n",
              "MANHATTAN        48749\n",
              "BRONX            37709\n",
              "STATEN ISLAND     8691\n",
              "Name: BOROUGH, dtype: int64"
            ]
          },
          "metadata": {
            "tags": []
          },
          "execution_count": 22
        }
      ]
    },
    {
      "cell_type": "code",
      "metadata": {
        "id": "1R1EyrhLuien",
        "colab_type": "code",
        "colab": {
          "base_uri": "https://localhost:8080/",
          "height": 306
        },
        "outputId": "73d0c295-d8e1-47e7-be46-2faf8e43cb45"
      },
      "source": [
        "'''\n",
        "#agrego valores de sucesos por milla de acuerdo a la ciudad\n",
        "\n",
        "TMP=pd.value_counts(df.BOROUGH, sort=False)\n",
        "for i in borough:\n",
        "  are=borough[i]['area']\n",
        "  ind=TMP.index.get_loc(i)\n",
        "  spm=are/TMP[ind]\n",
        "  print(borough[i].update({'SPM',spm}))\n",
        "'''\n",
        "\n",
        "#Manual\n",
        "borough['brooklyn'].update({'SPM': 1076})\n",
        "borough['queens'].update({'SPM': 618})\n",
        "borough['manhattan'].update({'SPM': 2135})\n",
        "borough['bronx'].update({'SPM': 895})\n",
        "borough['staten island'].update({'SPM': 148})\n",
        "\n",
        "borough"
      ],
      "execution_count": 23,
      "outputs": [
        {
          "output_type": "execute_result",
          "data": {
            "text/plain": [
              "{'bronx': {'SPM': 895, 'area': 42.1, 'name': 'bronx', 'population': 1471160.0},\n",
              " 'brooklyn': {'SPM': 1076,\n",
              "  'area': 70.82,\n",
              "  'name': 'brooklyn',\n",
              "  'population': 2648771.0},\n",
              " 'manhattan': {'SPM': 2135,\n",
              "  'area': 22.83,\n",
              "  'name': 'manhattan',\n",
              "  'population': 1664727.0},\n",
              " 'queens': {'SPM': 618,\n",
              "  'area': 108.53,\n",
              "  'name': 'queens',\n",
              "  'population': 2358582.0},\n",
              " 'staten island': {'SPM': 148,\n",
              "  'area': 58.37,\n",
              "  'name': 'staten island',\n",
              "  'population': 479458.0}}"
            ]
          },
          "metadata": {
            "tags": []
          },
          "execution_count": 23
        }
      ]
    },
    {
      "cell_type": "code",
      "metadata": {
        "id": "oiNII9kgeNpV",
        "colab_type": "code",
        "colab": {}
      },
      "source": [
        "lista={}\n",
        "for i in borough:\n",
        "  lista[i]=borough[i]['SPM']"
      ],
      "execution_count": 24,
      "outputs": []
    },
    {
      "cell_type": "code",
      "metadata": {
        "id": "nmxXe583riId",
        "colab_type": "code",
        "colab": {
          "base_uri": "https://localhost:8080/",
          "height": 295
        },
        "outputId": "6c7682ed-d91e-47fe-80ad-dba571de825a"
      },
      "source": [
        "plt.bar(range(len(lista)), list(lista.values()), align='center')\n",
        "plt.xticks(range(len(lista)), list(lista.keys()))\n",
        "plt.title(\"Accidentes por milla\")\n",
        "plt.xlabel(\"Distrito\")\n",
        "plt.ylabel(\"Accidentes por milla\");\n"
      ],
      "execution_count": 25,
      "outputs": [
        {
          "output_type": "display_data",
          "data": {
            "image/png": "[encoded data removed]",
            "text/plain": [
              "<Figure size 432x288 with 1 Axes>"
            ]
          },
          "metadata": {
            "tags": [],
            "needs_background": "light"
          }
        }
      ]
    },
    {
      "cell_type": "markdown",
      "metadata": {
        "id": "NxoeK5pBr1cR",
        "colab_type": "text"
      },
      "source": [
        "**Aunque en la primer gráfica se observa una mayor concentración de accidentes en brooklyn, no se puede medir adecuadamente con los demás lugares, debido a que son de tamaños diferentes, por ello, a partir de la segunda gráfica se tiene como referente el número de accidentes por milla cuadrada, dando como resultado que donde mayor accidentes hay de acuerdo al área es Manhattan.**"
      ]
    },
    {
      "cell_type": "markdown",
      "metadata": {
        "id": "c7X0FUYiuiep",
        "colab_type": "text"
      },
      "source": [
        "<h3>Exercise 8 :</h3>\n",
        "<p>Which hours have the most accidents for each borough? Plot a bar graph for each borough showing the number of accidents for each hour of the day.</p>\n",
        "<p><strong>Hint:</strong> You can use <code>sns.FacetGrid</code> to create a grid of plots with the hourly data of each borough. </p>"
      ]
    },
    {
      "cell_type": "markdown",
      "metadata": {
        "tags": [
          "ans_st"
        ],
        "id": "DuLvsGSSuiep",
        "colab_type": "text"
      },
      "source": [
        "**Answer.**"
      ]
    },
    {
      "cell_type": "code",
      "metadata": {
        "id": "0dLkJPSeyVBi",
        "colab_type": "code",
        "colab": {
          "base_uri": "https://localhost:8080/",
          "height": 200
        },
        "outputId": "f6d26529-0899-47b0-a08f-2307e15e8f8f"
      },
      "source": [
        "bins = np.arange(0, 24, 2)\n",
        "g = sns.FacetGrid(df, col=\"BOROUGH\")\n",
        "g = g.map(plt.hist, \"HOUR\",bins=bins)"
      ],
      "execution_count": 26,
      "outputs": [
        {
          "output_type": "display_data",
          "data": {
            "image/png": "[encoded data removed]",
            "text/plain": [
              "<Figure size 1080x216 with 5 Axes>"
            ]
          },
          "metadata": {
            "tags": [],
            "needs_background": "light"
          }
        }
      ]
    },
    {
      "cell_type": "markdown",
      "metadata": {
        "id": "jbsKKrYluieq",
        "colab_type": "text"
      },
      "source": [
        "<p><strong>Is the number of accidents higher at different times in different boroughs? Should we concentrate at different times for each borough?</strong></p>"
      ]
    },
    {
      "cell_type": "markdown",
      "metadata": {
        "id": "nYn0JrBVuieq",
        "colab_type": "text"
      },
      "source": [
        "<p>We can see that in all the boroughs the accident count is highest from approximately 2 - 6PM. But in Manhattan and the Bronx, you can see that there is not as much of a relative increase during these hours as in Brooklyn or Queens. Additionally, Staten Island has the lowest overall number of accidents.</p>"
      ]
    },
    {
      "cell_type": "markdown",
      "metadata": {
        "id": "kiXkB7XT2bvQ",
        "colab_type": "text"
      },
      "source": [
        "**Aunque la gráfica anterior no tiene mucho detalle, se puede observar que se conserva un mismo patron de horas en cada uno de los distritos, donde no hay muchos accidentes en horas de la madrugada, pero aumentan en horas de la tarde, teniendo mayores valores entre las 2pm y 6pm. \n",
        "Asimismo, como mencionan en el párrafo anterior, no hay un aumento significativo en algunas localidades como para denotar unos picos máximos generales, por lo tanto se debería considerar ponerlo por localidades.**"
      ]
    },
    {
      "cell_type": "markdown",
      "metadata": {
        "id": "D-krWPNauier",
        "colab_type": "text"
      },
      "source": [
        "<h3>Exercise 9 :</h3>\n",
        "<p>What factors cause the most accidents? Avoid double counting the contributing factors of a single accident. </p>\n",
        "<p><strong>Hint:</strong> One way of dealing with repetitions is to concatenate the corresponding columns while preserving their indexes, you can do that with the functions <code>pd.concat()</code> and  <code>reset_index()</code>. Then, use an appropiate <code>group_by</code> to count the number of repetitions of contributed factors per accident.   </p>"
      ]
    },
    {
      "cell_type": "markdown",
      "metadata": {
        "tags": [
          "ans_st"
        ],
        "id": "uIGutrSwuier",
        "colab_type": "text"
      },
      "source": [
        "**Answer.**"
      ]
    },
    {
      "cell_type": "code",
      "metadata": {
        "id": "Y4J8nM8k8eP1",
        "colab_type": "code",
        "colab": {
          "base_uri": "https://localhost:8080/",
          "height": 1000
        },
        "outputId": "d13d216e-4a8c-40d3-d57c-7236e985a08a"
      },
      "source": [
        "groupedvalues2 = df.groupby('CONTRIBUTING FACTOR VEHICLE 1').count().reset_index()\n",
        "groupedvalues2.sort_values([\"DATE\"], axis=0, ascending=False, inplace=True) \n",
        "groupedvalues2.reset_index().iloc[:,1:3]"
      ],
      "execution_count": 27,
      "outputs": [
        {
          "output_type": "execute_result",
          "data": {
            "text/html": [
              "<div>\n",
              "<style scoped>\n",
              "    .dataframe tbody tr th:only-of-type {\n",
              "        vertical-align: middle;\n",
              "    }\n",
              "\n",
              "    .dataframe tbody tr th {\n",
              "        vertical-align: top;\n",
              "    }\n",
              "\n",
              "    .dataframe thead th {\n",
              "        text-align: right;\n",
              "    }\n",
              "</style>\n",
              "<table border=\"1\" class=\"dataframe\">\n",
              "  <thead>\n",
              "    <tr style=\"text-align: right;\">\n",
              "      <th></th>\n",
              "      <th>CONTRIBUTING FACTOR VEHICLE 1</th>\n",
              "      <th>DATE</th>\n",
              "    </tr>\n",
              "  </thead>\n",
              "  <tbody>\n",
              "    <tr>\n",
              "      <th>0</th>\n",
              "      <td>Unspecified</td>\n",
              "      <td>59307</td>\n",
              "    </tr>\n",
              "    <tr>\n",
              "      <th>1</th>\n",
              "      <td>Driver Inattention/Distraction</td>\n",
              "      <td>58551</td>\n",
              "    </tr>\n",
              "    <tr>\n",
              "      <th>2</th>\n",
              "      <td>Failure to Yield Right-of-Way</td>\n",
              "      <td>18236</td>\n",
              "    </tr>\n",
              "    <tr>\n",
              "      <th>3</th>\n",
              "      <td>Following Too Closely</td>\n",
              "      <td>15370</td>\n",
              "    </tr>\n",
              "    <tr>\n",
              "      <th>4</th>\n",
              "      <td>Backing Unsafely</td>\n",
              "      <td>13876</td>\n",
              "    </tr>\n",
              "    <tr>\n",
              "      <th>5</th>\n",
              "      <td>Passing Too Closely</td>\n",
              "      <td>11337</td>\n",
              "    </tr>\n",
              "    <tr>\n",
              "      <th>6</th>\n",
              "      <td>Passing or Lane Usage Improper</td>\n",
              "      <td>10469</td>\n",
              "    </tr>\n",
              "    <tr>\n",
              "      <th>7</th>\n",
              "      <td>Other Vehicular</td>\n",
              "      <td>7509</td>\n",
              "    </tr>\n",
              "    <tr>\n",
              "      <th>8</th>\n",
              "      <td>Turning Improperly</td>\n",
              "      <td>6043</td>\n",
              "    </tr>\n",
              "    <tr>\n",
              "      <th>9</th>\n",
              "      <td>Unsafe Lane Changing</td>\n",
              "      <td>5932</td>\n",
              "    </tr>\n",
              "    <tr>\n",
              "      <th>10</th>\n",
              "      <td>Traffic Control Disregarded</td>\n",
              "      <td>4320</td>\n",
              "    </tr>\n",
              "    <tr>\n",
              "      <th>11</th>\n",
              "      <td>Driver Inexperience</td>\n",
              "      <td>3799</td>\n",
              "    </tr>\n",
              "    <tr>\n",
              "      <th>12</th>\n",
              "      <td>Unsafe Speed</td>\n",
              "      <td>2828</td>\n",
              "    </tr>\n",
              "    <tr>\n",
              "      <th>13</th>\n",
              "      <td>Reaction to Uninvolved Vehicle</td>\n",
              "      <td>2786</td>\n",
              "    </tr>\n",
              "    <tr>\n",
              "      <th>14</th>\n",
              "      <td>Alcohol Involvement</td>\n",
              "      <td>2382</td>\n",
              "    </tr>\n",
              "    <tr>\n",
              "      <th>15</th>\n",
              "      <td>View Obstructed/Limited</td>\n",
              "      <td>2117</td>\n",
              "    </tr>\n",
              "    <tr>\n",
              "      <th>16</th>\n",
              "      <td>Pavement Slippery</td>\n",
              "      <td>1805</td>\n",
              "    </tr>\n",
              "    <tr>\n",
              "      <th>17</th>\n",
              "      <td>Oversized Vehicle</td>\n",
              "      <td>1740</td>\n",
              "    </tr>\n",
              "    <tr>\n",
              "      <th>18</th>\n",
              "      <td>Pedestrian/Bicyclist/Other Pedestrian Error/Co...</td>\n",
              "      <td>1545</td>\n",
              "    </tr>\n",
              "    <tr>\n",
              "      <th>19</th>\n",
              "      <td>Aggressive Driving/Road Rage</td>\n",
              "      <td>994</td>\n",
              "    </tr>\n",
              "    <tr>\n",
              "      <th>20</th>\n",
              "      <td>Passenger Distraction</td>\n",
              "      <td>960</td>\n",
              "    </tr>\n",
              "    <tr>\n",
              "      <th>21</th>\n",
              "      <td>Brakes Defective</td>\n",
              "      <td>812</td>\n",
              "    </tr>\n",
              "    <tr>\n",
              "      <th>22</th>\n",
              "      <td>Fell Asleep</td>\n",
              "      <td>588</td>\n",
              "    </tr>\n",
              "    <tr>\n",
              "      <th>23</th>\n",
              "      <td>Outside Car Distraction</td>\n",
              "      <td>487</td>\n",
              "    </tr>\n",
              "    <tr>\n",
              "      <th>24</th>\n",
              "      <td>Glare</td>\n",
              "      <td>416</td>\n",
              "    </tr>\n",
              "    <tr>\n",
              "      <th>25</th>\n",
              "      <td>Obstruction/Debris</td>\n",
              "      <td>412</td>\n",
              "    </tr>\n",
              "    <tr>\n",
              "      <th>26</th>\n",
              "      <td>Steering Failure</td>\n",
              "      <td>313</td>\n",
              "    </tr>\n",
              "    <tr>\n",
              "      <th>27</th>\n",
              "      <td>Failure to Keep Right</td>\n",
              "      <td>308</td>\n",
              "    </tr>\n",
              "    <tr>\n",
              "      <th>28</th>\n",
              "      <td>Pavement Defective</td>\n",
              "      <td>291</td>\n",
              "    </tr>\n",
              "    <tr>\n",
              "      <th>29</th>\n",
              "      <td>Illnes</td>\n",
              "      <td>246</td>\n",
              "    </tr>\n",
              "    <tr>\n",
              "      <th>30</th>\n",
              "      <td>Driverless/Runaway Vehicle</td>\n",
              "      <td>227</td>\n",
              "    </tr>\n",
              "    <tr>\n",
              "      <th>31</th>\n",
              "      <td>Tire Failure/Inadequate</td>\n",
              "      <td>217</td>\n",
              "    </tr>\n",
              "    <tr>\n",
              "      <th>32</th>\n",
              "      <td>Fatigued/Drowsy</td>\n",
              "      <td>205</td>\n",
              "    </tr>\n",
              "    <tr>\n",
              "      <th>33</th>\n",
              "      <td>Lost Consciousness</td>\n",
              "      <td>200</td>\n",
              "    </tr>\n",
              "    <tr>\n",
              "      <th>34</th>\n",
              "      <td>Animals Action</td>\n",
              "      <td>182</td>\n",
              "    </tr>\n",
              "    <tr>\n",
              "      <th>35</th>\n",
              "      <td>Accelerator Defective</td>\n",
              "      <td>138</td>\n",
              "    </tr>\n",
              "    <tr>\n",
              "      <th>36</th>\n",
              "      <td>Lane Marking Improper/Inadequate</td>\n",
              "      <td>128</td>\n",
              "    </tr>\n",
              "    <tr>\n",
              "      <th>37</th>\n",
              "      <td>Drugs (illegal)</td>\n",
              "      <td>114</td>\n",
              "    </tr>\n",
              "    <tr>\n",
              "      <th>38</th>\n",
              "      <td>Traffic Control Device Improper/Non-Working</td>\n",
              "      <td>91</td>\n",
              "    </tr>\n",
              "    <tr>\n",
              "      <th>39</th>\n",
              "      <td>Cell Phone (hand-Held)</td>\n",
              "      <td>81</td>\n",
              "    </tr>\n",
              "    <tr>\n",
              "      <th>40</th>\n",
              "      <td>Physical Disability</td>\n",
              "      <td>57</td>\n",
              "    </tr>\n",
              "    <tr>\n",
              "      <th>41</th>\n",
              "      <td>Other Lighting Defects</td>\n",
              "      <td>31</td>\n",
              "    </tr>\n",
              "    <tr>\n",
              "      <th>42</th>\n",
              "      <td>Other Electronic Device</td>\n",
              "      <td>28</td>\n",
              "    </tr>\n",
              "    <tr>\n",
              "      <th>43</th>\n",
              "      <td>Tow Hitch Defective</td>\n",
              "      <td>25</td>\n",
              "    </tr>\n",
              "    <tr>\n",
              "      <th>44</th>\n",
              "      <td>Vehicle Vandalism</td>\n",
              "      <td>22</td>\n",
              "    </tr>\n",
              "    <tr>\n",
              "      <th>45</th>\n",
              "      <td>Prescription Medication</td>\n",
              "      <td>19</td>\n",
              "    </tr>\n",
              "    <tr>\n",
              "      <th>46</th>\n",
              "      <td>Tinted Windows</td>\n",
              "      <td>17</td>\n",
              "    </tr>\n",
              "    <tr>\n",
              "      <th>47</th>\n",
              "      <td>Using On Board Navigation Device</td>\n",
              "      <td>16</td>\n",
              "    </tr>\n",
              "    <tr>\n",
              "      <th>48</th>\n",
              "      <td>Eating or Drinking</td>\n",
              "      <td>13</td>\n",
              "    </tr>\n",
              "    <tr>\n",
              "      <th>49</th>\n",
              "      <td>Texting</td>\n",
              "      <td>11</td>\n",
              "    </tr>\n",
              "    <tr>\n",
              "      <th>50</th>\n",
              "      <td>Headlights Defective</td>\n",
              "      <td>11</td>\n",
              "    </tr>\n",
              "    <tr>\n",
              "      <th>51</th>\n",
              "      <td>Shoulders Defective/Improper</td>\n",
              "      <td>9</td>\n",
              "    </tr>\n",
              "    <tr>\n",
              "      <th>52</th>\n",
              "      <td>Cell Phone (hands-free)</td>\n",
              "      <td>8</td>\n",
              "    </tr>\n",
              "    <tr>\n",
              "      <th>53</th>\n",
              "      <td>Windshield Inadequate</td>\n",
              "      <td>6</td>\n",
              "    </tr>\n",
              "    <tr>\n",
              "      <th>54</th>\n",
              "      <td>Listening/Using Headphones</td>\n",
              "      <td>3</td>\n",
              "    </tr>\n",
              "  </tbody>\n",
              "</table>\n",
              "</div>"
            ],
            "text/plain": [
              "                        CONTRIBUTING FACTOR VEHICLE 1   DATE\n",
              "0                                         Unspecified  59307\n",
              "1                      Driver Inattention/Distraction  58551\n",
              "2                       Failure to Yield Right-of-Way  18236\n",
              "3                               Following Too Closely  15370\n",
              "4                                    Backing Unsafely  13876\n",
              "5                                 Passing Too Closely  11337\n",
              "6                      Passing or Lane Usage Improper  10469\n",
              "7                                     Other Vehicular   7509\n",
              "8                                  Turning Improperly   6043\n",
              "9                                Unsafe Lane Changing   5932\n",
              "10                        Traffic Control Disregarded   4320\n",
              "11                                Driver Inexperience   3799\n",
              "12                                       Unsafe Speed   2828\n",
              "13                     Reaction to Uninvolved Vehicle   2786\n",
              "14                                Alcohol Involvement   2382\n",
              "15                            View Obstructed/Limited   2117\n",
              "16                                  Pavement Slippery   1805\n",
              "17                                  Oversized Vehicle   1740\n",
              "18  Pedestrian/Bicyclist/Other Pedestrian Error/Co...   1545\n",
              "19                       Aggressive Driving/Road Rage    994\n",
              "20                              Passenger Distraction    960\n",
              "21                                   Brakes Defective    812\n",
              "22                                        Fell Asleep    588\n",
              "23                            Outside Car Distraction    487\n",
              "24                                              Glare    416\n",
              "25                                 Obstruction/Debris    412\n",
              "26                                   Steering Failure    313\n",
              "27                              Failure to Keep Right    308\n",
              "28                                 Pavement Defective    291\n",
              "29                                             Illnes    246\n",
              "30                         Driverless/Runaway Vehicle    227\n",
              "31                            Tire Failure/Inadequate    217\n",
              "32                                    Fatigued/Drowsy    205\n",
              "33                                 Lost Consciousness    200\n",
              "34                                     Animals Action    182\n",
              "35                              Accelerator Defective    138\n",
              "36                   Lane Marking Improper/Inadequate    128\n",
              "37                                    Drugs (illegal)    114\n",
              "38        Traffic Control Device Improper/Non-Working     91\n",
              "39                             Cell Phone (hand-Held)     81\n",
              "40                                Physical Disability     57\n",
              "41                             Other Lighting Defects     31\n",
              "42                            Other Electronic Device     28\n",
              "43                                Tow Hitch Defective     25\n",
              "44                                  Vehicle Vandalism     22\n",
              "45                            Prescription Medication     19\n",
              "46                                     Tinted Windows     17\n",
              "47                   Using On Board Navigation Device     16\n",
              "48                                 Eating or Drinking     13\n",
              "49                                            Texting     11\n",
              "50                               Headlights Defective     11\n",
              "51                       Shoulders Defective/Improper      9\n",
              "52                            Cell Phone (hands-free)      8\n",
              "53                              Windshield Inadequate      6\n",
              "54                         Listening/Using Headphones      3"
            ]
          },
          "metadata": {
            "tags": []
          },
          "execution_count": 27
        }
      ]
    },
    {
      "cell_type": "markdown",
      "metadata": {
        "id": "X3zZu3A4uies",
        "colab_type": "text"
      },
      "source": [
        "Dado que intenté algunas maneras de concatenar y recorrer adecuadamente el ejercicio, no lo logré de manera adecuada, por lo cual recurrí sólo a contar las causas de acuerdo a la primer columna, donde se observa que en la mayoría de casos no se escecifica las causas del accidente, pero tiene una cantidad similar la causa de distracción del conductor."
      ]
    },
    {
      "cell_type": "markdown",
      "metadata": {
        "id": "K5lykNFIuies",
        "colab_type": "text"
      },
      "source": [
        "<h3>Exercise 10 :</h3>\n",
        "<p>Which vehicle types are most involved in accidents per borough? Avoid double counting the type of vehicles present in a single accident. </p>\n",
        "<p><strong>Hint:</strong> You can apply a similar approach to the one used in the previous question.</p>"
      ]
    },
    {
      "cell_type": "markdown",
      "metadata": {
        "tags": [
          "ans_st"
        ],
        "id": "R6cAXYDTuies",
        "colab_type": "text"
      },
      "source": [
        "**Answer.**"
      ]
    },
    {
      "cell_type": "code",
      "metadata": {
        "id": "79KlOTrBY9_d",
        "colab_type": "code",
        "colab": {
          "base_uri": "https://localhost:8080/",
          "height": 669
        },
        "outputId": "fc29a78a-8715-440f-d8a9-b6e713d28d1d"
      },
      "source": [
        "groupedvalues3 = df.groupby('VEHICLE TYPE CODE 1').count()\n",
        "groupedvalues3.sort_values([\"DATE\"], axis=0, ascending=False, inplace=True) \n",
        "groupedvalues3.reset_index().iloc[:20,0:2]"
      ],
      "execution_count": 30,
      "outputs": [
        {
          "output_type": "execute_result",
          "data": {
            "text/html": [
              "<div>\n",
              "<style scoped>\n",
              "    .dataframe tbody tr th:only-of-type {\n",
              "        vertical-align: middle;\n",
              "    }\n",
              "\n",
              "    .dataframe tbody tr th {\n",
              "        vertical-align: top;\n",
              "    }\n",
              "\n",
              "    .dataframe thead th {\n",
              "        text-align: right;\n",
              "    }\n",
              "</style>\n",
              "<table border=\"1\" class=\"dataframe\">\n",
              "  <thead>\n",
              "    <tr style=\"text-align: right;\">\n",
              "      <th></th>\n",
              "      <th>VEHICLE TYPE CODE 1</th>\n",
              "      <th>DATE</th>\n",
              "    </tr>\n",
              "  </thead>\n",
              "  <tbody>\n",
              "    <tr>\n",
              "      <th>0</th>\n",
              "      <td>Sedan</td>\n",
              "      <td>86879</td>\n",
              "    </tr>\n",
              "    <tr>\n",
              "      <th>1</th>\n",
              "      <td>Station Wagon/Sport Utility Vehicle</td>\n",
              "      <td>68098</td>\n",
              "    </tr>\n",
              "    <tr>\n",
              "      <th>2</th>\n",
              "      <td>PASSENGER VEHICLE</td>\n",
              "      <td>22950</td>\n",
              "    </tr>\n",
              "    <tr>\n",
              "      <th>3</th>\n",
              "      <td>SPORT UTILITY / STATION WAGON</td>\n",
              "      <td>17360</td>\n",
              "    </tr>\n",
              "    <tr>\n",
              "      <th>4</th>\n",
              "      <td>Taxi</td>\n",
              "      <td>8925</td>\n",
              "    </tr>\n",
              "    <tr>\n",
              "      <th>5</th>\n",
              "      <td>Pick-up Truck</td>\n",
              "      <td>5731</td>\n",
              "    </tr>\n",
              "    <tr>\n",
              "      <th>6</th>\n",
              "      <td>Box Truck</td>\n",
              "      <td>4140</td>\n",
              "    </tr>\n",
              "    <tr>\n",
              "      <th>7</th>\n",
              "      <td>Bus</td>\n",
              "      <td>3142</td>\n",
              "    </tr>\n",
              "    <tr>\n",
              "      <th>8</th>\n",
              "      <td>TAXI</td>\n",
              "      <td>2946</td>\n",
              "    </tr>\n",
              "    <tr>\n",
              "      <th>9</th>\n",
              "      <td>Bike</td>\n",
              "      <td>2114</td>\n",
              "    </tr>\n",
              "    <tr>\n",
              "      <th>10</th>\n",
              "      <td>PICK-UP TRUCK</td>\n",
              "      <td>1458</td>\n",
              "    </tr>\n",
              "    <tr>\n",
              "      <th>11</th>\n",
              "      <td>Van</td>\n",
              "      <td>1347</td>\n",
              "    </tr>\n",
              "    <tr>\n",
              "      <th>12</th>\n",
              "      <td>Tractor Truck Diesel</td>\n",
              "      <td>1212</td>\n",
              "    </tr>\n",
              "    <tr>\n",
              "      <th>13</th>\n",
              "      <td>Motorcycle</td>\n",
              "      <td>1051</td>\n",
              "    </tr>\n",
              "    <tr>\n",
              "      <th>14</th>\n",
              "      <td>TK</td>\n",
              "      <td>1004</td>\n",
              "    </tr>\n",
              "    <tr>\n",
              "      <th>15</th>\n",
              "      <td>BU</td>\n",
              "      <td>905</td>\n",
              "    </tr>\n",
              "    <tr>\n",
              "      <th>16</th>\n",
              "      <td>Convertible</td>\n",
              "      <td>572</td>\n",
              "    </tr>\n",
              "    <tr>\n",
              "      <th>17</th>\n",
              "      <td>Dump</td>\n",
              "      <td>553</td>\n",
              "    </tr>\n",
              "    <tr>\n",
              "      <th>18</th>\n",
              "      <td>Ambulance</td>\n",
              "      <td>501</td>\n",
              "    </tr>\n",
              "    <tr>\n",
              "      <th>19</th>\n",
              "      <td>PK</td>\n",
              "      <td>371</td>\n",
              "    </tr>\n",
              "  </tbody>\n",
              "</table>\n",
              "</div>"
            ],
            "text/plain": [
              "                    VEHICLE TYPE CODE 1   DATE\n",
              "0                                 Sedan  86879\n",
              "1   Station Wagon/Sport Utility Vehicle  68098\n",
              "2                     PASSENGER VEHICLE  22950\n",
              "3         SPORT UTILITY / STATION WAGON  17360\n",
              "4                                  Taxi   8925\n",
              "5                         Pick-up Truck   5731\n",
              "6                             Box Truck   4140\n",
              "7                                   Bus   3142\n",
              "8                                  TAXI   2946\n",
              "9                                  Bike   2114\n",
              "10                        PICK-UP TRUCK   1458\n",
              "11                                  Van   1347\n",
              "12                 Tractor Truck Diesel   1212\n",
              "13                           Motorcycle   1051\n",
              "14                                   TK   1004\n",
              "15                                   BU    905\n",
              "16                          Convertible    572\n",
              "17                                 Dump    553\n",
              "18                            Ambulance    501\n",
              "19                                   PK    371"
            ]
          },
          "metadata": {
            "tags": []
          },
          "execution_count": 30
        }
      ]
    },
    {
      "cell_type": "code",
      "metadata": {
        "id": "3SIImfDZbotc",
        "colab_type": "code",
        "colab": {}
      },
      "source": [
        "#Reemplazo valores que se toman como valores diferentes por su expresión en mayusculas\n",
        "df['VEHICLE TYPE CODE 1'].replace(to_replace =\"Taxi\", value =\"TAXI\",inplace=True)\n",
        "df['VEHICLE TYPE CODE 1'].replace(to_replace =\"Pick-up Truck\", value =\"PICK-UP TRUCK\",inplace=True)"
      ],
      "execution_count": 31,
      "outputs": []
    },
    {
      "cell_type": "code",
      "metadata": {
        "id": "TyTrdRIMcn7O",
        "colab_type": "code",
        "colab": {
          "base_uri": "https://localhost:8080/",
          "height": 359
        },
        "outputId": "4967183c-81a9-4ba9-f9f3-4c91c38adcbe"
      },
      "source": [
        "groupedvalues3 = df.groupby('VEHICLE TYPE CODE 1').count().reset_index()\n",
        "groupedvalues3.sort_values([\"DATE\"], axis=0, ascending=False, inplace=True) \n",
        "groupedvalues3.reset_index().iloc[:10,1:3]"
      ],
      "execution_count": 32,
      "outputs": [
        {
          "output_type": "execute_result",
          "data": {
            "text/html": [
              "<div>\n",
              "<style scoped>\n",
              "    .dataframe tbody tr th:only-of-type {\n",
              "        vertical-align: middle;\n",
              "    }\n",
              "\n",
              "    .dataframe tbody tr th {\n",
              "        vertical-align: top;\n",
              "    }\n",
              "\n",
              "    .dataframe thead th {\n",
              "        text-align: right;\n",
              "    }\n",
              "</style>\n",
              "<table border=\"1\" class=\"dataframe\">\n",
              "  <thead>\n",
              "    <tr style=\"text-align: right;\">\n",
              "      <th></th>\n",
              "      <th>VEHICLE TYPE CODE 1</th>\n",
              "      <th>DATE</th>\n",
              "    </tr>\n",
              "  </thead>\n",
              "  <tbody>\n",
              "    <tr>\n",
              "      <th>0</th>\n",
              "      <td>Sedan</td>\n",
              "      <td>86879</td>\n",
              "    </tr>\n",
              "    <tr>\n",
              "      <th>1</th>\n",
              "      <td>Station Wagon/Sport Utility Vehicle</td>\n",
              "      <td>68098</td>\n",
              "    </tr>\n",
              "    <tr>\n",
              "      <th>2</th>\n",
              "      <td>PASSENGER VEHICLE</td>\n",
              "      <td>22950</td>\n",
              "    </tr>\n",
              "    <tr>\n",
              "      <th>3</th>\n",
              "      <td>SPORT UTILITY / STATION WAGON</td>\n",
              "      <td>17360</td>\n",
              "    </tr>\n",
              "    <tr>\n",
              "      <th>4</th>\n",
              "      <td>TAXI</td>\n",
              "      <td>11871</td>\n",
              "    </tr>\n",
              "    <tr>\n",
              "      <th>5</th>\n",
              "      <td>PICK-UP TRUCK</td>\n",
              "      <td>7189</td>\n",
              "    </tr>\n",
              "    <tr>\n",
              "      <th>6</th>\n",
              "      <td>Box Truck</td>\n",
              "      <td>4140</td>\n",
              "    </tr>\n",
              "    <tr>\n",
              "      <th>7</th>\n",
              "      <td>Bus</td>\n",
              "      <td>3142</td>\n",
              "    </tr>\n",
              "    <tr>\n",
              "      <th>8</th>\n",
              "      <td>Bike</td>\n",
              "      <td>2114</td>\n",
              "    </tr>\n",
              "    <tr>\n",
              "      <th>9</th>\n",
              "      <td>Van</td>\n",
              "      <td>1347</td>\n",
              "    </tr>\n",
              "  </tbody>\n",
              "</table>\n",
              "</div>"
            ],
            "text/plain": [
              "                   VEHICLE TYPE CODE 1   DATE\n",
              "0                                Sedan  86879\n",
              "1  Station Wagon/Sport Utility Vehicle  68098\n",
              "2                    PASSENGER VEHICLE  22950\n",
              "3        SPORT UTILITY / STATION WAGON  17360\n",
              "4                                 TAXI  11871\n",
              "5                        PICK-UP TRUCK   7189\n",
              "6                            Box Truck   4140\n",
              "7                                  Bus   3142\n",
              "8                                 Bike   2114\n",
              "9                                  Van   1347"
            ]
          },
          "metadata": {
            "tags": []
          },
          "execution_count": 32
        }
      ]
    },
    {
      "cell_type": "markdown",
      "metadata": {
        "id": "TOhRrQvwuiet",
        "colab_type": "text"
      },
      "source": [
        "-------"
      ]
    },
    {
      "cell_type": "markdown",
      "metadata": {
        "id": "1XA_kferuiet",
        "colab_type": "text"
      },
      "source": [
        "<h3>Exercise 11 :</h3>\n",
        "<p>In a 2018 <a href=\"https://www.nytimes.com/2019/01/01/nyregion/traffic-deaths-decrease-nyc.html\">interview</a> with The New York Times, New York's mayor de Blasio stated that <em>'Vision Zero is clearly working'</em>. That year, the number of deaths in traffic accidents in NYC dropped to a historical 202. Yet, as reported by <a href=\"https://www.amny.com/news/vision-zero-de-blasio-1-30707464/\">am New York Metro</a>, the number of fatalities has increased by 30% in the first quarter of 2019 compared to the previous year and the number of pedestrians and cyclist injured has not seen any improvement.</p>\n",
        "<p>How would you use the provided data to understand what went wrong in the first quarter of 2019?</p>\n",
        "<blockquote>\n",
        "<ul>\n",
        "<li>\n",
        "<p>[ ] Consider the accidents of the first quarter of 2019. Then, check for the most common causes of accidents where pedestrians and cyclists were involved. Give a recommendation based solely on this information. </p>\n",
        "</li>\n",
        "<li>\n",
        "<p>[X] Create a pair of heatmaps of the accidents involving injured/killed pedestrians and cyclists in the first quarter of 2018 and 2019. Compare these two to see if there is any change in the concentration of accidents. In critical areas, study the type of factors involved in the accidents. Give a recommendation to visit these areas to study the problem further.    </p>\n",
        "</li>\n",
        "<li>\n",
        "<p>[ ] The provided data is insufficient to improve our understanding of the situation.</p>\n",
        "</li>\n",
        "<li>\n",
        "<p>[X] None of the above. I would do the following: <em>here your recommended answer</em>.</p>\n",
        "</li>\n",
        "</ul>\n",
        "</blockquote>"
      ]
    },
    {
      "cell_type": "markdown",
      "metadata": {
        "tags": [
          "ans_st"
        ],
        "id": "vHrrhlyduiet",
        "colab_type": "text"
      },
      "source": [
        "**Answer.**"
      ]
    },
    {
      "cell_type": "markdown",
      "metadata": {
        "id": "xn3kd2jH7EYO",
        "colab_type": "text"
      },
      "source": [
        "**Adicional al mapa de calor mencionado, consideraría tomar otras fuentes de datos que contengan otras variables tales como la cantidad en circulación de vehículos y peatones y estado de las vias en ambos periodos**"
      ]
    },
    {
      "cell_type": "markdown",
      "metadata": {
        "id": "Ni-EaoPBuieu",
        "colab_type": "text"
      },
      "source": [
        "-------"
      ]
    },
    {
      "cell_type": "markdown",
      "metadata": {
        "id": "rUZ9EpmCuieu",
        "colab_type": "text"
      },
      "source": [
        "<h3>Exercise 12 :</h3>\n",
        "<p>Calculate the number of deaths caused by each type of vehicle. Plot a bar chart for the top 5 vehicles. Which vehicles are most often involved in deaths, and by how much more than the others?</p>\n",
        "<p><strong>For example,</strong> if two people died at an accident where 5 vehicles were involved: 4 are PASSENGER VEHICLE and 1 is a SPORT UTILITY/STATION WAGON. Then, we would add two deaths to each PASSENGER VEHICLE and SPORT UTILITY/STATION WAGON types.</p>\n",
        "<p><strong>Hint:</strong> You may want to create a new column with the total number of kills in the accident. For that you may find the function <code>.to_numpy()</code> useful. Then, proceed as the previous excercises to avoid double-counting the type of vehicles. </p>"
      ]
    },
    {
      "cell_type": "markdown",
      "metadata": {
        "tags": [
          "ans_st"
        ],
        "id": "617ztRZ1uieu",
        "colab_type": "text"
      },
      "source": [
        "**Answer.**"
      ]
    },
    {
      "cell_type": "markdown",
      "metadata": {
        "id": "pfpW2vc8uiev",
        "colab_type": "text"
      },
      "source": [
        "-------"
      ]
    }
  ]
}